{
 "cells": [
  {
   "cell_type": "markdown",
   "metadata": {},
   "source": [
    "# Advent of Code Problems"
   ]
  },
  {
   "cell_type": "markdown",
   "metadata": {},
   "source": [
    "## Template"
   ]
  },
  {
   "cell_type": "code",
   "execution_count": 1,
   "metadata": {},
   "outputs": [
    {
     "name": "stdout",
     "output_type": "stream",
     "text": [
      "======================================= test session starts ========================================\n",
      "platform linux -- Python 3.9.7, pytest-6.2.5, py-1.10.0, pluggy-1.0.0\n",
      "rootdir: /home/dskel/Documents/Code/puzzles/Advent\n",
      "collected 0 items\n",
      "\n",
      "====================================== no tests ran in 0.00s =======================================\n"
     ]
    }
   ],
   "source": [
    "import ipytest\n",
    "ipytest.autoconfig(addopts=[\"--pdb\"])\n",
    "\n",
    "from advent_tools import Puzzle\n",
    "import numpy as np\n",
    "from typing import Tuple, Iterable, List\n",
    "\n",
    "ipytest.run()"
   ]
  },
  {
   "cell_type": "markdown",
   "metadata": {},
   "source": [
    "# Tools"
   ]
  },
  {
   "cell_type": "code",
   "execution_count": 4,
   "metadata": {},
   "outputs": [
    {
     "data": {
      "text/plain": [
       "['1-7 r: rszchrrrzgr',\n",
       " '2-5 w: dgqtwwkwwc',\n",
       " '10-11 w: ldslpwbbqwpwtd',\n",
       " '3-4 s: sszss']"
      ]
     },
     "execution_count": 4,
     "metadata": {},
     "output_type": "execute_result"
    }
   ],
   "source": [
    "from advent_tools import Puzzle, apply_until_fixed_list\n",
    "\n",
    "@apply_until_fixed_list\n",
    "def collatz(n: int) -> int:\n",
    "    if n == 1:\n",
    "        return 1\n",
    "    if n % 2 == 0:\n",
    "        return n // 2\n",
    "    else:\n",
    "        return 3 * n + 1\n",
    "\n",
    "Puzzle(2, 2020).input_lines[1:5]"
   ]
  }
 ],
 "metadata": {
  "interpreter": {
   "hash": "7ab965c30b4c16b45d1c3ebd08bdd440727b8fa21d397ee24c13edb402fbcf1d"
  },
  "kernelspec": {
   "display_name": "Python 3.9.7 64-bit ('math_recreation': pyenv)",
   "name": "python3"
  },
  "language_info": {
   "codemirror_mode": {
    "name": "ipython",
    "version": 3
   },
   "file_extension": ".py",
   "mimetype": "text/x-python",
   "name": "python",
   "nbconvert_exporter": "python",
   "pygments_lexer": "ipython3",
   "version": "3.9.7"
  },
  "orig_nbformat": 4
 },
 "nbformat": 4,
 "nbformat_minor": 2
}
